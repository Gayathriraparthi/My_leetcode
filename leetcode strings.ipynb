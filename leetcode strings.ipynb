{
 "cells": [
  {
   "cell_type": "code",
   "execution_count": 10,
   "id": "7922d7c6",
   "metadata": {},
   "outputs": [
    {
     "name": "stdout",
     "output_type": "stream",
     "text": [
      "0\n"
     ]
    }
   ],
   "source": [
    "haystack = 'sadbutsad'; needle = 'sad'\n",
    "\n",
    "if needle in haystack:\n",
    "     print(haystack.find(needle))\n",
    "else:\n",
    "    print(int('-1'))"
   ]
  },
  {
   "cell_type": "code",
   "execution_count": 1,
   "id": "ed72e4fd",
   "metadata": {},
   "outputs": [
    {
     "name": "stdout",
     "output_type": "stream",
     "text": [
      "['b', 'a', 'd', 'c']\n",
      "True\n",
      "baba\n"
     ]
    }
   ],
   "source": [
    "s ='badc';t ='baba'\n",
    "list1 = []\n",
    "for i in s:\n",
    "    if i not in list1:\n",
    "        list1.append(i)\n",
    "print(list1)\n",
    "dict1 = {}\n",
    "for i in list1:\n",
    "    temp = s.index(i)\n",
    "    dict1[i] = t[temp]\n",
    "dict1\n",
    "output = ''\n",
    "for i in s:\n",
    "    if i in dict1.keys():\n",
    "        output += dict1[i]\n",
    "output\n",
    "if output == t :\n",
    "    print(True)\n",
    "else:\n",
    "    print(False)\n",
    "print(output)"
   ]
  },
  {
   "cell_type": "code",
   "execution_count": 1,
   "id": "57aed0a9",
   "metadata": {},
   "outputs": [
    {
     "name": "stdout",
     "output_type": "stream",
     "text": [
      "2461\n"
     ]
    }
   ],
   "source": [
    "def roman_to_integer(s):\n",
    "    roman_dict = {'I': 1, 'V': 5, 'X': 10, 'L': 50, 'C': 100, 'D': 500, 'M': 1000}\n",
    "    result = 0\n",
    "    prev_value = 0\n",
    "    \n",
    "    for i in range(len(s) - 1, -1, -1):\n",
    "        current_value = roman_dict[s[i]]\n",
    "        \n",
    "        if current_value >= prev_value:\n",
    "            result += current_value\n",
    "        else:\n",
    "            result -= current_value\n",
    "        \n",
    "        prev_value = current_value\n",
    "    \n",
    "    return result\n",
    "\n",
    "\n",
    "roman_numeral = 'MCMDLXI'  # Example Roman numeral\n",
    "integer_value = roman_to_integer(roman_numeral)\n",
    "print(integer_value)\n"
   ]
  },
  {
   "cell_type": "code",
   "execution_count": 18,
   "id": "3716d213",
   "metadata": {},
   "outputs": [],
   "source": [
    "def longestCommonPrefix(s):\n",
    "    l = []\n",
    "    if len(s) > 0:\n",
    "        s1 = sorted(s)\n",
    "        first,last = s1[0],s1[-1]        \n",
    "        for i in range(len(first)):\n",
    "            if first[i] == last[i]:\n",
    "                l.append(last[i])\n",
    "            else:\n",
    "                return (''.join(l))\n",
    "    return(''.join(l))"
   ]
  },
  {
   "cell_type": "code",
   "execution_count": 19,
   "id": "3f47080c",
   "metadata": {},
   "outputs": [
    {
     "data": {
      "text/plain": [
       "''"
      ]
     },
     "execution_count": 19,
     "metadata": {},
     "output_type": "execute_result"
    }
   ],
   "source": [
    "s = ['Flower','Flow','Flight']\n",
    "s = ['dog','racer','car']\n",
    "s = []\n",
    "longestCommonPrefix(s)"
   ]
  },
  {
   "cell_type": "code",
   "execution_count": 46,
   "id": "0956351f",
   "metadata": {},
   "outputs": [],
   "source": [
    "def valid_parenthesis(v):\n",
    "    l = []\n",
    "    d = {'(':')','{':'}','[':']'}\n",
    "    for i in v:\n",
    "        if i in d.keys():\n",
    "            l.append(i)\n",
    "        else:\n",
    "            if  (len(l) != 0) and (i == d[l[-1]]):\n",
    "                l.pop()\n",
    "            else:\n",
    "                return(False)\n",
    "    if len(l) == 0:\n",
    "        return (True)\n",
    "    else:\n",
    "        return(False)"
   ]
  },
  {
   "cell_type": "code",
   "execution_count": 48,
   "id": "bdc28a0d",
   "metadata": {},
   "outputs": [
    {
     "data": {
      "text/plain": [
       "False"
      ]
     },
     "execution_count": 48,
     "metadata": {},
     "output_type": "execute_result"
    }
   ],
   "source": [
    "v = '(]'\n",
    "valid_parenthesis(v)"
   ]
  },
  {
   "cell_type": "code",
   "execution_count": 3,
   "id": "d8bc0bf7",
   "metadata": {},
   "outputs": [],
   "source": [
    "\n",
    "\n",
    "def removeDuplicates(nums):\n",
    "        \n",
    "    uni = nums[0]\n",
    "    for i in nums[1:]:\n",
    "        if i == uni:\n",
    "            nums.append(i)\n",
    "            nums.remove(i)\n",
    "        else:\n",
    "            uni = i\n",
    "        return(len(set(nums)))\n",
    "       \n",
    "    "
   ]
  },
  {
   "cell_type": "code",
   "execution_count": 4,
   "id": "f1e37e0f",
   "metadata": {
    "scrolled": true
   },
   "outputs": [
    {
     "data": {
      "text/plain": [
       "5"
      ]
     },
     "execution_count": 4,
     "metadata": {},
     "output_type": "execute_result"
    }
   ],
   "source": [
    "nums = [0,0,1,1,1,2,2,3,3,4]\n",
    "removeDuplicates(nums)"
   ]
  },
  {
   "cell_type": "code",
   "execution_count": null,
   "id": "3b7c9564",
   "metadata": {},
   "outputs": [],
   "source": [
    "#numRows = 5\n",
    "#Output: [[1],[1,1],[1,2,1],[1,3,3,1],[1,4,6,4,1]]"
   ]
  },
  {
   "cell_type": "code",
   "execution_count": 3,
   "id": "e1319b4a",
   "metadata": {},
   "outputs": [
    {
     "name": "stdout",
     "output_type": "stream",
     "text": [
      "['a', 'b', 'c', 'c']\n",
      "['a', 'b', 'c', 'c']\n",
      "['a', 'b', 'c', 'c']\n",
      "['a', 'b', 'c', 'c']\n"
     ]
    }
   ],
   "source": [
    "s = ['a','b','c','d']\n",
    "length = len(s)/2\n",
    "for i in range(length):\n",
    "    s.[]\n",
    "    s.append(s[-1])\n",
    "    print(s)"
   ]
  },
  {
   "cell_type": "code",
   "execution_count": 13,
   "id": "67f4748a",
   "metadata": {},
   "outputs": [
    {
     "name": "stdout",
     "output_type": "stream",
     "text": [
      "[0, 1]\n"
     ]
    }
   ],
   "source": [
    "#sum two nums\n",
    "nums = [2,7,11,5];target = 9\n",
    "for i in range(len(nums)-1):\n",
    "    for j in range(i+1,len(nums)):\n",
    "        if nums[i]+nums[j] == target:\n",
    "            print([i, j])\n",
    "        else:\n",
    "            pass"
   ]
  },
  {
   "cell_type": "code",
   "execution_count": 31,
   "id": "693b4df0",
   "metadata": {},
   "outputs": [
    {
     "name": "stdout",
     "output_type": "stream",
     "text": [
      "2\n",
      "[2, 2, 0, 2]\n"
     ]
    }
   ],
   "source": [
    "nums = [3,2,2,3];val = 3\n",
    "count = 0\n",
    "for i in range(len(nums)):\n",
    "    if nums[i] == val:\n",
    "        nums.remove(nums[i])\n",
    "        nums.append(i)\n",
    "        count += 1\n",
    "        \n",
    "final = len(nums) - count\n",
    "print(final)\n",
    "print(nums)\n",
    "    \n",
    "\n"
   ]
  },
  {
   "cell_type": "code",
   "execution_count": 40,
   "id": "c618eb59",
   "metadata": {},
   "outputs": [
    {
     "name": "stdout",
     "output_type": "stream",
     "text": [
      "[2, 2, 2, 3]\n",
      "[2, 2, 2, 3]\n",
      "2\n"
     ]
    }
   ],
   "source": [
    "nums = [3,2,2,3];val = 3\n",
    "index = 0\n",
    "for i in range(len(nums)):\n",
    "    if nums[i] != val:\n",
    "        nums[index] = nums[i]\n",
    "        index += 1\n",
    "        print(nums)\n",
    "print (index)\n"
   ]
  },
  {
   "cell_type": "markdown",
   "id": "c5d61a75",
   "metadata": {},
   "source": [
    "## Valid Palindrome"
   ]
  },
  {
   "cell_type": "code",
   "execution_count": 1,
   "id": "dd08a333",
   "metadata": {},
   "outputs": [
    {
     "name": "stdout",
     "output_type": "stream",
     "text": [
      "False\n",
      "False\n",
      "False\n"
     ]
    }
   ],
   "source": [
    "#s = \"A man, a plan, a canal: Panama\"\n",
    "#s = \" \"\n",
    "s = \" race a car\"\n",
    "s1 = \"\"\n",
    "for i in s:\n",
    "    if i.isalnum() == True:\n",
    "        i = i.lower()\n",
    "        s1 += i\n",
    "print(s1 == s1[::-1])\n",
    "\n",
    "###a\n",
    "s_list = [ i.lower() for i in s]\n",
    "s_list1 = []\n",
    "for i in s_list:\n",
    "    if i.isalnum() == True:\n",
    "        s_list1.append(i)\n",
    "s1 = \"\".join(s_list1)\n",
    "\n",
    "print(s1 == s1[::-1])\n",
    "\n",
    "\n",
    "###\n",
    "s1 = [i.lower() for i in s if i.isalnum() == True]\n",
    "print(s1 == s1[::-1])"
   ]
  },
  {
   "cell_type": "markdown",
   "id": "3638d71a",
   "metadata": {},
   "source": [
    "# Valid Anagram\n"
   ]
  },
  {
   "cell_type": "code",
   "execution_count": 23,
   "id": "860d1028",
   "metadata": {},
   "outputs": [
    {
     "name": "stdout",
     "output_type": "stream",
     "text": [
      "False\n"
     ]
    }
   ],
   "source": [
    "def isAnagram(s: str, t: str) -> bool:\n",
    "    return(sorted(s) == sorted(t))\n",
    "print(isAnagram(s,t))"
   ]
  },
  {
   "cell_type": "code",
   "execution_count": 24,
   "id": "352a71c9",
   "metadata": {},
   "outputs": [
    {
     "name": "stdout",
     "output_type": "stream",
     "text": [
      "False\n"
     ]
    }
   ],
   "source": [
    "def isAnagram(s: str, t: str) -> bool:\n",
    "    if len(s) == len(t):\n",
    "        s = sorted(s)\n",
    "        t = sorted(t)\n",
    "        for i in range(len(s)):\n",
    "            if s[i] != t[i]:\n",
    "                return(False)\n",
    "        else:\n",
    "            return (True)\n",
    "    else:\n",
    "        return(False)\n",
    "print(isAnagram(s,t))"
   ]
  },
  {
   "cell_type": "code",
   "execution_count": 22,
   "id": "910b6020",
   "metadata": {},
   "outputs": [],
   "source": [
    "#s = \"anagram\";t = \"nagaram\"\n",
    "s = \"car\";t = \"care\""
   ]
  },
  {
   "cell_type": "markdown",
   "id": "9da8f534",
   "metadata": {},
   "source": [
    "# Happy number\n"
   ]
  },
  {
   "cell_type": "code",
   "execution_count": 73,
   "id": "c84549e6",
   "metadata": {},
   "outputs": [
    {
     "data": {
      "text/plain": [
       "'False'"
      ]
     },
     "execution_count": 73,
     "metadata": {},
     "output_type": "execute_result"
    }
   ],
   "source": [
    "def isHappy(n: int) -> bool:\n",
    "    s = set()\n",
    "    while n > 0:\n",
    "        n_str = str(n)\n",
    "        temp = 0\n",
    "        for i in n_str:\n",
    "            temp += int(i) ** 2\n",
    "\n",
    "        if temp == 1:\n",
    "            return(\"True\")\n",
    "            break\n",
    "        if temp in s:\n",
    "            return(\"False\")\n",
    "            break\n",
    "        else:\n",
    "            s.add(temp)\n",
    "        n = temp\n",
    "#isHappy(1)\n",
    "#isHappy(19)\n",
    "isHappy(2)"
   ]
  },
  {
   "cell_type": "markdown",
   "id": "6b1bd684",
   "metadata": {},
   "source": [
    "# Length of Last Word\n"
   ]
  },
  {
   "cell_type": "code",
   "execution_count": 12,
   "id": "c462105f",
   "metadata": {},
   "outputs": [
    {
     "name": "stdout",
     "output_type": "stream",
     "text": [
      "4\n",
      "['fly', 'me', 'to', 'the', 'moon']\n"
     ]
    }
   ],
   "source": [
    "#s = \"luffy is still joyboy\"\n",
    "#s = \"Hello World\"\n",
    "s = \"   fly me   to   the moon  \"\n",
    "l = s.split(\" \")\n",
    "l1 = [i for i in l if i.isalnum() == True]\n",
    "print(len(l1[-1]))\n",
    "print(l1)"
   ]
  },
  {
   "cell_type": "code",
   "execution_count": 14,
   "id": "a43e87cf",
   "metadata": {},
   "outputs": [
    {
     "name": "stdout",
     "output_type": "stream",
     "text": [
      "4\n",
      "['fly', 'me', 'to', 'the', 'moon']\n"
     ]
    }
   ],
   "source": [
    "l = s.split() # split remove all spaces \n",
    "print(len(l[-1]))\n",
    "print(l)"
   ]
  },
  {
   "cell_type": "markdown",
   "id": "a3e7d087",
   "metadata": {},
   "source": [
    "# Ugly Number"
   ]
  },
  {
   "cell_type": "code",
   "execution_count": 65,
   "id": "7a410638",
   "metadata": {},
   "outputs": [
    {
     "name": "stdout",
     "output_type": "stream",
     "text": [
      "False\n"
     ]
    }
   ],
   "source": [
    "# n = 6\n",
    "# n = 1\n",
    "# n = 14\n",
    "n = 7\n",
    "if n <= 0:\n",
    "    print (False)\n",
    "while n % 2 == 0:\n",
    "    n //= 2\n",
    "while n % 3 == 0:\n",
    "    n //= 3\n",
    "while n % 5 == 0:\n",
    "    n //= 5\n",
    "print (n == 1)"
   ]
  },
  {
   "cell_type": "markdown",
   "id": "34a8456a",
   "metadata": {},
   "source": [
    "# Word Pattern"
   ]
  },
  {
   "cell_type": "code",
   "execution_count": 62,
   "id": "99c8e085",
   "metadata": {},
   "outputs": [
    {
     "name": "stdout",
     "output_type": "stream",
     "text": [
      "['dog', 'cat', 'car', 'fish']\n",
      "acda\n",
      "{('c', 'cat'), ('a', 'fish'), ('d', 'car'), ('a', 'dog')}\n"
     ]
    }
   ],
   "source": [
    "s = \"dog cat car fish\"\n",
    "p = \"acda\"\n",
    "s = s.split()\n",
    "print(s)\n",
    "print(p)\n",
    "print(set(zip(p,s)))"
   ]
  },
  {
   "cell_type": "code",
   "execution_count": 64,
   "id": "e53b8f6c",
   "metadata": {},
   "outputs": [
    {
     "name": "stdout",
     "output_type": "stream",
     "text": [
      "False\n"
     ]
    }
   ],
   "source": [
    "print(len(set(p)) == len(set(s)) == len(set(zip(p,s))))"
   ]
  },
  {
   "cell_type": "markdown",
   "id": "33d94261",
   "metadata": {},
   "source": [
    "# Reverse Vowels of a String\n"
   ]
  },
  {
   "cell_type": "code",
   "execution_count": null,
   "id": "cc303451",
   "metadata": {},
   "outputs": [],
   "source": []
  },
  {
   "cell_type": "code",
   "execution_count": null,
   "id": "fe458a41",
   "metadata": {},
   "outputs": [],
   "source": []
  },
  {
   "cell_type": "code",
   "execution_count": null,
   "id": "869894bd",
   "metadata": {},
   "outputs": [],
   "source": []
  },
  {
   "cell_type": "code",
   "execution_count": null,
   "id": "97d419ad",
   "metadata": {},
   "outputs": [],
   "source": []
  },
  {
   "cell_type": "code",
   "execution_count": null,
   "id": "8e744181",
   "metadata": {},
   "outputs": [],
   "source": []
  },
  {
   "cell_type": "code",
   "execution_count": null,
   "id": "85a38f06",
   "metadata": {},
   "outputs": [],
   "source": []
  }
 ],
 "metadata": {
  "kernelspec": {
   "display_name": "Python 3 (ipykernel)",
   "language": "python",
   "name": "python3"
  },
  "language_info": {
   "codemirror_mode": {
    "name": "ipython",
    "version": 3
   },
   "file_extension": ".py",
   "mimetype": "text/x-python",
   "name": "python",
   "nbconvert_exporter": "python",
   "pygments_lexer": "ipython3",
   "version": "3.9.13"
  }
 },
 "nbformat": 4,
 "nbformat_minor": 5
}
